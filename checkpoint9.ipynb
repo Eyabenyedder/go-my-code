{
 "cells": [
  {
   "cell_type": "code",
   "execution_count": 4,
   "id": "daefae45",
   "metadata": {},
   "outputs": [
    {
     "name": "stdout",
     "output_type": "stream",
     "text": [
      "False\n",
      "True\n"
     ]
    }
   ],
   "source": [
    "#1\n",
    "def binary_search(item_list,item):\n",
    "    first = 0\n",
    "    last = len(item_list)-1\n",
    "    found = False\n",
    "    while( first<=last and not found):\n",
    "        mid = (first + last)//2\n",
    "        if item_list[mid] == item :\n",
    "            found = True\n",
    "        else:\n",
    "            if item < item_list[mid]:\n",
    "                last = mid - 1\n",
    "            else:\n",
    "                first = mid + 1\n",
    "    return found\n",
    "print(binary_search([1,2,3,5,8], 6))\n",
    "print(binary_search([1,2,3,5,8], 5))"
   ]
  },
  {
   "cell_type": "code",
   "execution_count": 5,
   "id": "81f8cd35",
   "metadata": {},
   "outputs": [
    {
     "name": "stdout",
     "output_type": "stream",
     "text": [
      "81\n"
     ]
    }
   ],
   "source": [
    "#2\n",
    "def power(a,b):\n",
    "    if b==0:\n",
    "        return 1\n",
    "    elif a==0:\n",
    "        return 0\n",
    "    elif b==1:\n",
    "        return a\n",
    "    else:\n",
    "        return a*power(a,b-1)\n",
    "print(power(3,4))"
   ]
  },
  {
   "cell_type": "code",
   "execution_count": 1,
   "id": "e5b7968b",
   "metadata": {},
   "outputs": [
    {
     "name": "stdout",
     "output_type": "stream",
     "text": [
      "the Number of Elements of the list: 9\n",
      "enter the Element of the List: 29\n",
      "enter the Element of the List: 13\n",
      "enter the Element of the List: 22\n",
      "enter the Element of the List: 37\n",
      "enter the Element of the List: 52\n",
      "enter the Element of the List: 49\n",
      "enter the Element of the List: 46\n",
      "enter the Element of the List: 71\n",
      "enter the Element of the List: 56\n",
      "The Sorted List:  [13, 22, 29, 37, 46, 49, 52, 56, 71]\n"
     ]
    }
   ],
   "source": [
    "#3\n",
    "a = []\n",
    "b = int(input(\"the Number of Elements of the list: \"))\n",
    "for i in range(b):\n",
    "    value = int(input(\"enter the Element of the List: \" ))\n",
    "    a.append(value)\n",
    "\n",
    "for i in range(b-1):\n",
    "    for j in range(b- i - 1):\n",
    "        if(a[j] > a[j + 1]):\n",
    "             temp = a[j]\n",
    "             a[j] = a[j + 1]\n",
    "             a[j + 1] = temp\n",
    "\n",
    "print(\"The Sorted List: \", a)"
   ]
  },
  {
   "cell_type": "code",
   "execution_count": 2,
   "id": "3691a828",
   "metadata": {},
   "outputs": [
    {
     "name": "stdout",
     "output_type": "stream",
     "text": [
      "the Number of Elements of the list: 9\n",
      "enter the Element of the List: 29\n",
      "enter the Element of the List: 13\n",
      "enter the Element of the List: 22\n",
      "enter the Element of the List: 37\n",
      "enter the Element of the List: 52\n",
      "enter the Element of the List: 49\n",
      "enter the Element of the List: 46\n",
      "enter the Element of the List: 71\n",
      "enter the Element of the List: 56\n",
      "[13, 22, 29, 37, 46, 49, 52, 56, 71]\n"
     ]
    }
   ],
   "source": [
    "#4\n",
    "myList= []\n",
    "b = int(input(\"the Number of Elements of the list: \"))\n",
    "for i in range(b):\n",
    "    value = int(input(\"enter the Element of the List: \"))\n",
    "    myList.append(value)\n",
    "def mergeSort(myList):\n",
    "    if len(myList) > 1:\n",
    "        mid = len(myList) // 2\n",
    "        left = myList[:mid]\n",
    "        right = myList[mid:]\n",
    "        mergeSort(left)\n",
    "        mergeSort(right)\n",
    "        i = 0\n",
    "        j = 0\n",
    "        k = 0        \n",
    "        while i < len(left) and j < len(right):\n",
    "            if left[i] < right[j]:\n",
    "                myList[k] = left[i]\n",
    "                i += 1\n",
    "            else:\n",
    "                myList[k] = right[j]\n",
    "                j += 1\n",
    "            k += 1\n",
    "        while i < len(left):\n",
    "            myList[k] = left[i]\n",
    "            i += 1\n",
    "            k += 1\n",
    "        while j < len(right):\n",
    "            myList[k]=right[j]\n",
    "            j += 1\n",
    "            k += 1\n",
    "mergeSort(myList)\n",
    "print(myList)"
   ]
  },
  {
   "cell_type": "code",
   "execution_count": 3,
   "id": "7e7a6f92",
   "metadata": {},
   "outputs": [
    {
     "name": "stdout",
     "output_type": "stream",
     "text": [
      "the Number of Elements of the list: 9\n",
      "enter the Element of the List: 29\n",
      "enter the Element of the List: 13\n",
      "enter the Element of the List: 22\n",
      "enter the Element of the List: 37\n",
      "enter the Element of the List: 52\n",
      "enter the Element of the List: 49\n",
      "enter the Element of the List: 46\n",
      "enter the Element of the List: 71\n",
      "enter the Element of the List: 56\n",
      "[13, 22, 29, 37, 46, 49, 52, 56, 71]\n"
     ]
    }
   ],
   "source": [
    "#5\n",
    "list1= []\n",
    "b = int(input(\"the Number of Elements of the list: \"))\n",
    "for i in range(b):\n",
    "    value = int(input(\"enter the Element of the List: \"))\n",
    "    list1.append(value)\n",
    "def quickSort(list1):\n",
    "    quickSortHlp(list1,0,len(list1)-1)\n",
    "\n",
    "def quickSortHlp(list1,start,end):\n",
    "    if start < end:\n",
    "        splitpoint = partition(list1,start,end)\n",
    "        quickSortHlp(list1,start,splitpoint-1)\n",
    "        quickSortHlp(list1,splitpoint+1,end)\n",
    "def partition(list1, start, end):\n",
    "    pivot = list1[start]\n",
    "    low = start + 1\n",
    "    high = end\n",
    "    while True:\n",
    "        while low <= high and list1[high] >= pivot:\n",
    "            high = high - 1\n",
    "\n",
    "        \n",
    "        while low <= high and list1[low] <= pivot:\n",
    "            low = low + 1\n",
    "        if low <= high:\n",
    "            list1[low], list1[high] = list1[high], list1[low]\n",
    "        else:\n",
    "            break\n",
    "\n",
    "    list1[start], list1[high] = list1[high], list1[start]\n",
    "\n",
    "    return high\n",
    "quickSort(list1)\n",
    "print(list1)"
   ]
  }
 ],
 "metadata": {
  "kernelspec": {
   "display_name": "Python 3",
   "language": "python",
   "name": "python3"
  },
  "language_info": {
   "codemirror_mode": {
    "name": "ipython",
    "version": 3
   },
   "file_extension": ".py",
   "mimetype": "text/x-python",
   "name": "python",
   "nbconvert_exporter": "python",
   "pygments_lexer": "ipython3",
   "version": "3.8.8"
  }
 },
 "nbformat": 4,
 "nbformat_minor": 5
}

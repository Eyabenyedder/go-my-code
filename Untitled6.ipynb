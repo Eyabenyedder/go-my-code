{
 "cells": [
  {
   "cell_type": "code",
   "execution_count": 1,
   "id": "7722780f",
   "metadata": {},
   "outputs": [
    {
     "name": "stdout",
     "output_type": "stream",
     "text": [
      "35\n"
     ]
    }
   ],
   "source": [
    "def max_of_two( x, y ):\n",
    "    if x > y:\n",
    "        return x\n",
    "    return y\n",
    "def max_of_three( x, y, z ):\n",
    "    return max_of_two( x, max_of_two( y, z ) )\n",
    "print(max_of_three(20, 35, 19))"
   ]
  },
  {
   "cell_type": "code",
   "execution_count": 2,
   "id": "63e49b48",
   "metadata": {},
   "outputs": [
    {
     "data": {
      "text/plain": [
       "(50, 30)"
      ]
     },
     "execution_count": 2,
     "metadata": {},
     "output_type": "execute_result"
    }
   ],
   "source": [
    "def func(num1, num2):\n",
    "    sum_ = num1+num2\n",
    "    sub_ = num1-num2\n",
    "    return sum_, sub_\n",
    "\n",
    "func(40,10)"
   ]
  },
  {
   "cell_type": "code",
   "execution_count": 3,
   "id": "3816353e",
   "metadata": {},
   "outputs": [
    {
     "name": "stdout",
     "output_type": "stream",
     "text": [
      "go-my-code\n",
      "code-go-my\n"
     ]
    }
   ],
   "source": [
    "items=[n for n in input().split('-')]\n",
    "items.sort()\n",
    "print('-'.join(items))"
   ]
  },
  {
   "cell_type": "code",
   "execution_count": 1,
   "id": "f6cce6cc",
   "metadata": {},
   "outputs": [
    {
     "name": "stdout",
     "output_type": "stream",
     "text": [
      "x=  9\n",
      "y=  2\n"
     ]
    }
   ],
   "source": [
    "list=[1,2,3,4,5]\n",
    "def listsum(list):\n",
    "    ret=0\n",
    "    for i in list:\n",
    "        ret += i\n",
    "    return ret\n",
    "def multiple (list1) :\n",
    "    result = 1\n",
    "    for i in list1 :\n",
    "        result=result*i\n",
    "        return result\n",
    "l1=[]\n",
    "l2=[]\n",
    "for i in range(0,len(list),2) :\n",
    "    l1.append(list[i])\n",
    "    x=sum(l1)\n",
    "print(\"x= \",x)\n",
    "for i in range (1,len(list),2) :\n",
    "    l2.append(list[i])\n",
    "    y=multiple(l2)\n",
    "print(\"y= \",y)"
   ]
  }
 ],
 "metadata": {
  "kernelspec": {
   "display_name": "Python 3",
   "language": "python",
   "name": "python3"
  },
  "language_info": {
   "codemirror_mode": {
    "name": "ipython",
    "version": 3
   },
   "file_extension": ".py",
   "mimetype": "text/x-python",
   "name": "python",
   "nbconvert_exporter": "python",
   "pygments_lexer": "ipython3",
   "version": "3.8.8"
  }
 },
 "nbformat": 4,
 "nbformat_minor": 5
}

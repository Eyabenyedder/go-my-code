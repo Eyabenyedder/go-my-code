{
 "cells": [
  {
   "cell_type": "code",
   "execution_count": 6,
   "id": "d89ddb2b",
   "metadata": {},
   "outputs": [
    {
     "name": "stdout",
     "output_type": "stream",
     "text": [
      "[[4 6 9 6]\n",
      " [9 7 9 6]]\n"
     ]
    },
    {
     "data": {
      "text/plain": [
       "[[4, 6, 9, 6], [9, 7, 9, 6]]"
      ]
     },
     "execution_count": 6,
     "metadata": {},
     "output_type": "execute_result"
    }
   ],
   "source": [
    "#1\n",
    "import numpy as np\n",
    "array=np.random.randint(2, 10, size=(2,4))\n",
    "print(array)\n",
    "array.tolist()"
   ]
  },
  {
   "cell_type": "code",
   "execution_count": 7,
   "id": "b658d6f2",
   "metadata": {},
   "outputs": [
    {
     "name": "stdout",
     "output_type": "stream",
     "text": [
      "[[2 1 0 8]\n",
      " [6 8 8 6]\n",
      " [5 7 8 2]\n",
      " [8 6 4 7]]\n",
      "Condition number of the said matrix:\n",
      "25\n"
     ]
    }
   ],
   "source": [
    "#2\n",
    "import numpy as np\n",
    "a=np.random.randint(0,10,size=(4,4))\n",
    "print(a)\n",
    "result =  np.trace(a)\n",
    "print(\"Condition number of the said matrix: \")\n",
    "print(result)"
   ]
  },
  {
   "cell_type": "code",
   "execution_count": 8,
   "id": "c97b3339",
   "metadata": {},
   "outputs": [
    {
     "name": "stdout",
     "output_type": "stream",
     "text": [
      "[[4 7 3 7 3]\n",
      " [6 3 3 8 5]\n",
      " [6 8 6 2 5]]\n",
      "give a number: 5\n",
      "7\n",
      "7\n",
      "6\n",
      "8\n",
      "6\n",
      "8\n",
      "6\n",
      "5\n"
     ]
    }
   ],
   "source": [
    "#3\n",
    "x=2\n",
    "import numpy as np\n",
    "a=np.random.randint(2,10,size=(3,5))\n",
    "print(a)\n",
    "b=int(input(\"give a number: \"))\n",
    "for i in a:\n",
    "    for c in i:\n",
    "        if c>b:\n",
    "            print(c)\n",
    "print(c)    "
   ]
  },
  {
   "cell_type": "code",
   "execution_count": 13,
   "id": "1c660559",
   "metadata": {},
   "outputs": [
    {
     "name": "stdout",
     "output_type": "stream",
     "text": [
      "[[5 8]\n",
      " [5 2]]\n",
      "[[2 7]\n",
      " [4 5]]\n",
      "[[ 7 15]\n",
      " [ 9  7]]\n"
     ]
    }
   ],
   "source": [
    "#4\n",
    "import numpy as np\n",
    "x=np.random.randint(2,10,size=(2,2))\n",
    "y=np.random.randint(2,10,size=(2,2))\n",
    "print(x)\n",
    "print(y)\n",
    "C=x+y\n",
    "print(C)"
   ]
  },
  {
   "cell_type": "code",
   "execution_count": 5,
   "id": "f4b83d00",
   "metadata": {},
   "outputs": [
    {
     "name": "stdout",
     "output_type": "stream",
     "text": [
      "Original matrix: \n",
      "[[2 0 4 7]\n",
      " [3 0 3 7]]\n",
      "Subtract the mean of each row of the said matrix: \n",
      "[[-0.5  0.   0.5  0. ]\n",
      " [ 0.5  0.  -0.5  0. ]]\n"
     ]
    }
   ],
   "source": [
    "#5\n",
    "import numpy as np\n",
    "print(\"Original matrix: \")\n",
    "a= np.random.randint(0, 10,(2,4))\n",
    "print(a)\n",
    "print(\"Subtract the mean of each row of the said matrix: \")\n",
    "b = a- a.mean(axis=0, keepdims=True)\n",
    "print(b)"
   ]
  }
 ],
 "metadata": {
  "kernelspec": {
   "display_name": "Python 3",
   "language": "python",
   "name": "python3"
  },
  "language_info": {
   "codemirror_mode": {
    "name": "ipython",
    "version": 3
   },
   "file_extension": ".py",
   "mimetype": "text/x-python",
   "name": "python",
   "nbconvert_exporter": "python",
   "pygments_lexer": "ipython3",
   "version": "3.8.8"
  }
 },
 "nbformat": 4,
 "nbformat_minor": 5
}

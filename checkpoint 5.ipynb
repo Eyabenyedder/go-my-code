{
 "cells": [
  {
   "cell_type": "code",
   "execution_count": 3,
   "id": "742981b0",
   "metadata": {},
   "outputs": [
    {
     "name": "stdout",
     "output_type": "stream",
     "text": [
      "x=1 , y=2 , z=3\n"
     ]
    }
   ],
   "source": [
    "class Point3D :\n",
    "    def __init__(self,x,y,z):\n",
    "        self.x = x\n",
    "        self.y = y\n",
    "        self.z = z\n",
    "    def  test(self):\n",
    "        return \"x={} , y={} , z={}\".format(self.x, self.y, self.z)\n",
    "my_point = Point3D (1,2,3)\n",
    "print (my_point.test())"
   ]
  },
  {
   "cell_type": "code",
   "execution_count": 5,
   "id": "ec733e95",
   "metadata": {},
   "outputs": [
    {
     "name": "stdout",
     "output_type": "stream",
     "text": [
      "14\n",
      "12\n"
     ]
    }
   ],
   "source": [
    "class Rectangle :\n",
    "    def __init__(self,l,w):\n",
    "        self.length = l\n",
    "        self.width  = w\n",
    "    def Rectangle_perimeter(self):\n",
    "        return (self.length+self.width)*2\n",
    "    def Rectangle_area(self):\n",
    "        return self.length*self.width\n",
    "rectangle1=Rectangle(4,3)\n",
    "print(rectangle1.Rectangle_perimeter())\n",
    "print(rectangle1.Rectangle_area())"
   ]
  },
  {
   "cell_type": "code",
   "execution_count": 26,
   "id": "f152924e",
   "metadata": {},
   "outputs": [
    {
     "name": "stdout",
     "output_type": "stream",
     "text": [
      "xo: 4\n",
      "yo: 4\n",
      "r: 4\n",
      "(50.26548245743669, 25.132741228718345)\n",
      "xc: 4\n",
      "yc: 4\n",
      "c is inside the circle : \n"
     ]
    }
   ],
   "source": [
    "from math import*\n",
    "class Circle :\n",
    "    def __init__(self,o,r):\n",
    "        self.center = o\n",
    "        self.radius = r\n",
    "    def Circle_perimeter(self):\n",
    "        return self.radius*pi*2\n",
    "    def Circle_area(self):\n",
    "        return self.radius**2*pi\n",
    "xo =int(input(\"xo: \"))\n",
    "yo =int(input(\"yo: \"))\n",
    "o=(xo,yo)\n",
    "r= int(input(\"r: \"))\n",
    "circle=Circle(o,r)\n",
    "area= circle.Circle_area()\n",
    "perimeter=circle.Circle_perimeter()\n",
    "my_circle=(area,perimeter)\n",
    "print (my_circle)\n",
    "xc =int(input(\"xc: \"))\n",
    "yc =int(input(\"yc: \"))\n",
    "c=(xc,yc)\n",
    "oc=sqrt(((xc-xo)**2)+((yc-yo)**2))\n",
    "a = oc\n",
    "if r>a :\n",
    "    print(\"c is inside the circle  \")\n",
    "elif r==a :\n",
    "    print(\"c is on the circle \")\n",
    "else:\n",
    "    print(\"c is outside the circle  \")"
   ]
  },
  {
   "cell_type": "code",
   "execution_count": 3,
   "id": "d8657041",
   "metadata": {},
   "outputs": [
    {
     "name": "stdout",
     "output_type": "stream",
     "text": [
      "savings: 400\n",
      "the money withdrawn: 50\n",
      "the deposit money: 30\n",
      "350\n",
      "430\n"
     ]
    }
   ],
   "source": [
    "class Bank():\n",
    "    def __init__(self,b):\n",
    "        self.balance = b\n",
    "    def after_the_withdraw_operation(self):\n",
    "        return self.balance-moneywithdrawn\n",
    "    def after_the_deposit_operation(self):\n",
    "        return self.balance+thedepositmoney\n",
    "s=int(input(\"savings: \"))\n",
    "moneywithdrawn=int(input(\"the money withdrawn: \"))\n",
    "thedepositmoney=int(input(\"the deposit money: \"))\n",
    "bank1=Bank(s)\n",
    "print(bank1.after_the_withdraw_operation())\n",
    "print(bank1.after_the_deposit_operation())"
   ]
  },
  {
   "cell_type": "code",
   "execution_count": null,
   "id": "96ef30d4",
   "metadata": {},
   "outputs": [],
   "source": []
  }
 ],
 "metadata": {
  "kernelspec": {
   "display_name": "Python 3",
   "language": "python",
   "name": "python3"
  },
  "language_info": {
   "codemirror_mode": {
    "name": "ipython",
    "version": 3
   },
   "file_extension": ".py",
   "mimetype": "text/x-python",
   "name": "python",
   "nbconvert_exporter": "python",
   "pygments_lexer": "ipython3",
   "version": "3.8.8"
  }
 },
 "nbformat": 4,
 "nbformat_minor": 5
}
